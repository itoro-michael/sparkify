{
 "cells": [
  {
   "cell_type": "markdown",
   "metadata": {},
   "source": [
    "# Sparkify Project Workspace\n",
    "This workspace contains a tiny subset (128MB) of the full dataset available (12GB). Feel free to use this workspace to build your project, or to explore a smaller subset with Spark before deploying your cluster on the cloud. Instructions for setting up your Spark cluster is included in the last lesson of the Extracurricular Spark Course content.\n",
    "\n",
    "You can follow the steps below to guide your data analysis and model building portion of this project."
   ]
  },
  {
   "cell_type": "code",
   "execution_count": 219,
   "metadata": {},
   "outputs": [],
   "source": [
    "# import libraries\n",
    "import os\n",
    "import re\n",
    "import time\n",
    "import pyspark.sql.functions as F\n",
    "import matplotlib.pyplot as plt\n",
    "import pandas as pd\n",
    "import seaborn as sns\n",
    "import numpy as np\n",
    "\n",
    "from pyspark.sql import SparkSession\n",
    "from pyspark.sql.functions import avg, col, concat,count, desc, explode, lit, min, max, split, stddev, udf, struct\n",
    "from pyspark.sql.types import IntegerType, FloatType\n",
    "\n",
    "from pyspark.ml import Pipeline\n",
    "from pyspark.ml.classification import LogisticRegression, DecisionTreeClassifier, GBTClassifier\n",
    "from pyspark.ml.evaluation import MulticlassClassificationEvaluator\n",
    "from pyspark.ml.feature import Normalizer, StandardScaler\n",
    "from pyspark.ml.feature import StringIndexer, VectorAssembler, MinMaxScaler\n",
    "from pyspark.ml.regression import LinearRegression\n",
    "from pyspark.ml.tuning import CrossValidator, ParamGridBuilder\n",
    "\n",
    "from pyspark_dist_explore import hist"
   ]
  },
  {
   "cell_type": "code",
   "execution_count": 2,
   "metadata": {},
   "outputs": [],
   "source": [
    "# set required environment variable\n",
    "os.environ['JAVA_HOME'] = \"C:\\Program Files\\Java\\jdk1.8.0_221\"\n",
    "os.environ['HADOOP_HOME'] = \"C:\\hadoop\""
   ]
  },
  {
   "cell_type": "code",
   "execution_count": 3,
   "metadata": {},
   "outputs": [],
   "source": [
    "# create a Spark session\n",
    "spark = SparkSession.builder \\\n",
    "    .master(\"local[4]\") \\\n",
    "    .appName(\"sparkify\") \\\n",
    "    .config(\"spark.network.timeout\", \"3601s\") \\\n",
    "    .config(\"spark.executor.heartbeatInterval\", \"3600s\") \\\n",
    "    .config(\"spark.sql.broadcastTimeout\", \"3600s\") \\\n",
    "    .getOrCreate()"
   ]
  },
  {
   "cell_type": "markdown",
   "metadata": {},
   "source": [
    "# Load and Clean Dataset\n",
    "In this workspace, the mini-dataset file is `mini_sparkify_event_data.json`. Load and clean the dataset, checking for invalid or missing data - for example, records without userids or sessionids. "
   ]
  },
  {
   "cell_type": "code",
   "execution_count": 4,
   "metadata": {},
   "outputs": [
    {
     "data": {
      "text/plain": [
       "Row(artist='Martha Tilston', auth='Logged In', firstName='Colin', gender='M', itemInSession=50, lastName='Freeman', length=277.89016, level='paid', location='Bakersfield, CA', method='PUT', page='NextSong', registration=1538173362000, sessionId=29, song='Rockpools', status=200, ts=1538352117000, userAgent='Mozilla/5.0 (Windows NT 6.1; WOW64; rv:31.0) Gecko/20100101 Firefox/31.0', userId='30')"
      ]
     },
     "execution_count": 4,
     "metadata": {},
     "output_type": "execute_result"
    }
   ],
   "source": [
    "file_location = 'mini_sparkify_event_data.json'\n",
    "df = spark.read.json(file_location)\n",
    "df.persist()\n",
    "df.head()"
   ]
  },
  {
   "cell_type": "code",
   "execution_count": 5,
   "metadata": {},
   "outputs": [
    {
     "name": "stdout",
     "output_type": "stream",
     "text": [
      "root\n",
      " |-- artist: string (nullable = true)\n",
      " |-- auth: string (nullable = true)\n",
      " |-- firstName: string (nullable = true)\n",
      " |-- gender: string (nullable = true)\n",
      " |-- itemInSession: long (nullable = true)\n",
      " |-- lastName: string (nullable = true)\n",
      " |-- length: double (nullable = true)\n",
      " |-- level: string (nullable = true)\n",
      " |-- location: string (nullable = true)\n",
      " |-- method: string (nullable = true)\n",
      " |-- page: string (nullable = true)\n",
      " |-- registration: long (nullable = true)\n",
      " |-- sessionId: long (nullable = true)\n",
      " |-- song: string (nullable = true)\n",
      " |-- status: long (nullable = true)\n",
      " |-- ts: long (nullable = true)\n",
      " |-- userAgent: string (nullable = true)\n",
      " |-- userId: string (nullable = true)\n",
      "\n"
     ]
    }
   ],
   "source": [
    "df.printSchema()"
   ]
  },
  {
   "cell_type": "code",
   "execution_count": 6,
   "metadata": {},
   "outputs": [
    {
     "name": "stdout",
     "output_type": "stream",
     "text": [
      "286500\n"
     ]
    }
   ],
   "source": [
    "# The number of records in dataframe\n",
    "num_records = df.count()\n",
    "print(num_records)"
   ]
  },
  {
   "cell_type": "code",
   "execution_count": 233,
   "metadata": {},
   "outputs": [
    {
     "data": {
      "text/plain": [
       "20"
      ]
     },
     "execution_count": 233,
     "metadata": {},
     "output_type": "execute_result"
    }
   ],
   "source": [
    "len(df.columns)"
   ]
  },
  {
   "cell_type": "code",
   "execution_count": 7,
   "metadata": {},
   "outputs": [
    {
     "name": "stdout",
     "output_type": "stream",
     "text": [
      "+------+---------+\n",
      "|userId|sessionId|\n",
      "+------+---------+\n",
      "|     0|        0|\n",
      "+------+---------+\n",
      "\n"
     ]
    }
   ],
   "source": [
    "# The number of missing data in userId and sessionId columns\n",
    "df.select([F.count(F.when(F.isnan(c), c)).alias(c) for c in [\"userId\", \"sessionId\"]]).show()"
   ]
  },
  {
   "cell_type": "code",
   "execution_count": 8,
   "metadata": {},
   "outputs": [
    {
     "name": "stdout",
     "output_type": "stream",
     "text": [
      "The number of empty strings in userId column: 8346\n",
      "The percentage of empty strings in userId column: 3.0 %\n"
     ]
    }
   ],
   "source": [
    "# The number and percentage of empty strings in userId column\n",
    "num_empty_str = df.filter(df[\"userId\"] == \"\").count()\n",
    "print(\"The number of empty strings in userId column:\", num_empty_str)\n",
    "print(\"The percentage of empty strings in userId column:\", round(num_empty_str/num_records,2)*100,\"%\")"
   ]
  },
  {
   "cell_type": "code",
   "execution_count": 9,
   "metadata": {},
   "outputs": [
    {
     "name": "stdout",
     "output_type": "stream",
     "text": [
      "The number of empty strings in sessionId column: 0\n",
      "The per unit value of empty strings in sessionId column: 0.0 %\n"
     ]
    }
   ],
   "source": [
    "# The number and percentage of empty strings in sessionId column\n",
    "num_empty_str = df.filter(df[\"sessionId\"] == \"\").count()\n",
    "print(\"The number of empty strings in sessionId column:\", num_empty_str)\n",
    "print(\"The per unit value of empty strings in sessionId column:\", round(num_empty_str/num_records,2),\"%\")"
   ]
  },
  {
   "cell_type": "markdown",
   "metadata": {},
   "source": [
    "Having a sessionId without a userId invalidates a record and invalid records will be removed from the dataset."
   ]
  },
  {
   "cell_type": "code",
   "execution_count": 10,
   "metadata": {},
   "outputs": [],
   "source": [
    "# Remove rows with empty string in userId column\n",
    "df = df.filter(df[\"userId\"] != \"\")"
   ]
  },
  {
   "cell_type": "code",
   "execution_count": 11,
   "metadata": {},
   "outputs": [
    {
     "data": {
      "text/plain": [
       "278154"
      ]
     },
     "execution_count": 11,
     "metadata": {},
     "output_type": "execute_result"
    }
   ],
   "source": [
    "# The current number of records\n",
    "df.count()"
   ]
  },
  {
   "cell_type": "code",
   "execution_count": 12,
   "metadata": {},
   "outputs": [
    {
     "name": "stdout",
     "output_type": "stream",
     "text": [
      "2018-10-01 00:01:57\n",
      "+-------------+\n",
      "|      min(ts)|\n",
      "+-------------+\n",
      "|1538352117000|\n",
      "+-------------+\n",
      "\n"
     ]
    }
   ],
   "source": [
    "# The minimum timestamp in dataset\n",
    "result_ms = pd.to_datetime(str(df.select([min(\"ts\")]).collect()[0]['min(ts)']),unit='ms')\n",
    "print(result_ms)\n",
    "df.select([min(\"ts\")]).show()"
   ]
  },
  {
   "cell_type": "code",
   "execution_count": 13,
   "metadata": {},
   "outputs": [
    {
     "name": "stdout",
     "output_type": "stream",
     "text": [
      "2018-12-03 01:11:16\n",
      "+-------------+\n",
      "|      max(ts)|\n",
      "+-------------+\n",
      "|1543799476000|\n",
      "+-------------+\n",
      "\n"
     ]
    }
   ],
   "source": [
    "# The maximum timestamp in dataset\n",
    "result_ms = pd.to_datetime(str(df.select([max(\"ts\")]).collect()[0]['max(ts)']),unit='ms')\n",
    "print(result_ms)\n",
    "df.select([max(\"ts\")]).show()"
   ]
  },
  {
   "cell_type": "code",
   "execution_count": 14,
   "metadata": {},
   "outputs": [
    {
     "data": {
      "text/plain": [
       "63"
      ]
     },
     "execution_count": 14,
     "metadata": {},
     "output_type": "execute_result"
    }
   ],
   "source": [
    "# The time period covered by dataset in days\n",
    "max_ts = df.select([max(\"ts\")]).collect()[0]['max(ts)']\n",
    "min_ts = df.select([min(\"ts\")]).collect()[0]['min(ts)']\n",
    "range_ts = max_ts - min_ts\n",
    "round(range_ts/(1000*60*60*24))"
   ]
  },
  {
   "cell_type": "code",
   "execution_count": 15,
   "metadata": {},
   "outputs": [
    {
     "name": "stdout",
     "output_type": "stream",
     "text": [
      "\n"
     ]
    },
    {
     "data": {
      "image/png": "[encoded data removed]",
      "text/plain": [
       "<Figure size 864x432 with 1 Axes>"
      ]
     },
     "metadata": {
      "needs_background": "light"
     },
     "output_type": "display_data"
    }
   ],
   "source": [
    "# Show a distribution of the ts column, in order to spot possible outliers\n",
    "fig, ax = plt.subplots(figsize=(12,6))\n",
    "ax.set_title(\"Histogram showing the distribution of the ts column\")\n",
    "hist(ax, df.select(\"ts\"), bins = 50, color=['blue'])\n",
    "print()"
   ]
  },
  {
   "cell_type": "markdown",
   "metadata": {},
   "source": [
    "From the above plot, there are no apparent outliers in the ts column. The distribution looks even."
   ]
  },
  {
   "cell_type": "markdown",
   "metadata": {},
   "source": [
    "# Exploratory Data Analysis\n",
    "When you're working with the full dataset, perform EDA by loading a small subset of the data and doing basic manipulations within Spark. In this workspace, you are already provided a small subset of data you can explore.\n",
    "\n",
    "### Define Churn\n",
    "\n",
    "Once you've done some preliminary analysis, create a column `Churn` to use as the label for your model. I suggest using the `Cancellation Confirmation` events to define your churn, which happen for both paid and free users. As a bonus task, you can also look into the `Downgrade` events.\n",
    "\n",
    "### Explore Data\n",
    "Once you've defined churn, perform some exploratory data analysis to observe the behavior for users who stayed vs users who churned. You can start by exploring aggregates on these two groups of users, observing how much of a specific action they experienced per a certain time unit or number of songs played."
   ]
  },
  {
   "cell_type": "code",
   "execution_count": 16,
   "metadata": {},
   "outputs": [
    {
     "data": {
      "text/plain": [
       "[Row(userId='9'),\n",
       " Row(userId='11'),\n",
       " Row(userId='12'),\n",
       " Row(userId='13'),\n",
       " Row(userId='13')]"
      ]
     },
     "execution_count": 16,
     "metadata": {},
     "output_type": "execute_result"
    }
   ],
   "source": [
    "# Show the userIds that have the Submit Downgrade event\n",
    "# Does the level change to free after Submit Downgrade event?\n",
    "df.select([\"userId\"]).where(df.page == \"Submit Downgrade\").orderBy(df.userId.cast(\"float\")).collect()[:5]"
   ]
  },
  {
   "cell_type": "code",
   "execution_count": 17,
   "metadata": {
    "scrolled": true
   },
   "outputs": [
    {
     "data": {
      "text/plain": [
       "[Row(userId='131', firstname='Kael', page='NextSong', level='paid'),\n",
       " Row(userId='131', firstname='Kael', page='NextSong', level='paid'),\n",
       " Row(userId='131', firstname='Kael', page='Downgrade', level='paid'),\n",
       " Row(userId='131', firstname='Kael', page='Submit Downgrade', level='paid'),\n",
       " Row(userId='131', firstname='Kael', page='Home', level='free')]"
      ]
     },
     "execution_count": 17,
     "metadata": {},
     "output_type": "execute_result"
    }
   ],
   "source": [
    "# Does the level change to free after Submit Downgrade event? Yes\n",
    "df.select([\"userId\", \"firstname\", \"page\", \"level\"]).where(df.userId == \"131\").sort(\"ts\").collect()[-80:-75:]"
   ]
  },
  {
   "cell_type": "code",
   "execution_count": 18,
   "metadata": {},
   "outputs": [
    {
     "data": {
      "text/plain": [
       "[Row(userId='3'),\n",
       " Row(userId='12'),\n",
       " Row(userId='17'),\n",
       " Row(userId='18'),\n",
       " Row(userId='28')]"
      ]
     },
     "execution_count": 18,
     "metadata": {},
     "output_type": "execute_result"
    }
   ],
   "source": [
    "# Show the userIds that have the Cancellation Confirmation event\n",
    "df.select([\"userId\"]).where(df.page == \"Cancellation Confirmation\").orderBy(df.userId.cast(\"float\")).collect()[:5]"
   ]
  },
  {
   "cell_type": "code",
   "execution_count": 19,
   "metadata": {},
   "outputs": [
    {
     "data": {
      "text/plain": [
       "[Row(userId='12', firstname='Sophia', page='NextSong', level='paid'),\n",
       " Row(userId='12', firstname='Sophia', page='NextSong', level='paid'),\n",
       " Row(userId='12', firstname='Sophia', page='Roll Advert', level='paid'),\n",
       " Row(userId='12', firstname='Sophia', page='Cancel', level='paid'),\n",
       " Row(userId='12', firstname='Sophia', page='Cancellation Confirmation', level='paid')]"
      ]
     },
     "execution_count": 19,
     "metadata": {},
     "output_type": "execute_result"
    }
   ],
   "source": [
    "# Does the level change to free after Cancellation Confirmation event? No, it seems to end the existence of a userId.\n",
    "df.select([\"userId\", \"firstname\", \"page\", \"level\"]).where(df.userId == \"12\").sort(\"ts\").collect()[-5:]"
   ]
  },
  {
   "cell_type": "markdown",
   "metadata": {},
   "source": [
    "#### Create the Churn column"
   ]
  },
  {
   "cell_type": "code",
   "execution_count": 20,
   "metadata": {},
   "outputs": [
    {
     "data": {
      "text/plain": [
       "Row(artist='Martha Tilston', auth='Logged In', firstName='Colin', gender='M', itemInSession=50, lastName='Freeman', length=277.89016, level='paid', location='Bakersfield, CA', method='PUT', page='NextSong', registration=1538173362000, sessionId=29, song='Rockpools', status=200, ts=1538352117000, userAgent='Mozilla/5.0 (Windows NT 6.1; WOW64; rv:31.0) Gecko/20100101 Firefox/31.0', userId='30', churn=0)"
      ]
     },
     "execution_count": 20,
     "metadata": {},
     "output_type": "execute_result"
    }
   ],
   "source": [
    "# create function to check for the Cancellation Confirmation event\n",
    "flag_cancellation_event = udf(lambda x: 1 if x == \"Cancellation Confirmation\" else 0, IntegerType())\n",
    "\n",
    "# Create churn column\n",
    "df = df.withColumn(\"churn\", flag_cancellation_event(\"page\"))\n",
    "df.head()"
   ]
  },
  {
   "cell_type": "code",
   "execution_count": 21,
   "metadata": {},
   "outputs": [
    {
     "name": "stdout",
     "output_type": "stream",
     "text": [
      "root\n",
      " |-- artist: string (nullable = true)\n",
      " |-- auth: string (nullable = true)\n",
      " |-- firstName: string (nullable = true)\n",
      " |-- gender: string (nullable = true)\n",
      " |-- itemInSession: long (nullable = true)\n",
      " |-- lastName: string (nullable = true)\n",
      " |-- length: double (nullable = true)\n",
      " |-- level: string (nullable = true)\n",
      " |-- location: string (nullable = true)\n",
      " |-- method: string (nullable = true)\n",
      " |-- page: string (nullable = true)\n",
      " |-- registration: long (nullable = true)\n",
      " |-- sessionId: long (nullable = true)\n",
      " |-- song: string (nullable = true)\n",
      " |-- status: long (nullable = true)\n",
      " |-- ts: long (nullable = true)\n",
      " |-- userAgent: string (nullable = true)\n",
      " |-- userId: string (nullable = true)\n",
      " |-- churn: integer (nullable = true)\n",
      "\n"
     ]
    }
   ],
   "source": [
    "df.printSchema()"
   ]
  },
  {
   "cell_type": "markdown",
   "metadata": {},
   "source": [
    "#### Exploratory analysis"
   ]
  },
  {
   "cell_type": "code",
   "execution_count": 203,
   "metadata": {},
   "outputs": [
    {
     "name": "stdout",
     "output_type": "stream",
     "text": [
      "The number of users in dataset: 225\n"
     ]
    }
   ],
   "source": [
    "# The number of unique users in dataset\n",
    "num_users = df.select(\"userId\").dropDuplicates().count()\n",
    "print(\"The number of users in dataset:\", num_users)"
   ]
  },
  {
   "cell_type": "code",
   "execution_count": 204,
   "metadata": {},
   "outputs": [
    {
     "name": "stdout",
     "output_type": "stream",
     "text": [
      "The number of churned users in dataset: 52\n"
     ]
    }
   ],
   "source": [
    "# The number of churn in dataset\n",
    "num_churn = df.filter(df[\"churn\"] == 1).count()\n",
    "print(\"The number of churned users in dataset:\", num_churn)"
   ]
  },
  {
   "cell_type": "code",
   "execution_count": 205,
   "metadata": {},
   "outputs": [
    {
     "name": "stdout",
     "output_type": "stream",
     "text": [
      "The percentage of users churned: 23.0 %\n"
     ]
    }
   ],
   "source": [
    "# The relative size of churned users in dataset\n",
    "print(\"The percentage of users churned:\", round(num_churn/num_users, 2)*100, \"%\")"
   ]
  },
  {
   "cell_type": "code",
   "execution_count": 206,
   "metadata": {},
   "outputs": [
    {
     "name": "stdout",
     "output_type": "stream",
     "text": [
      "The percentage of churn events in dataset: 0.02 %\n"
     ]
    }
   ],
   "source": [
    "# The percentage of churn in dataset. This will show how much the dataset is skewed.\n",
    "num_records = df.count()\n",
    "print(\"The percentage of churn events in dataset:\", round(num_churn/num_records,4)*100,\"%\")"
   ]
  },
  {
   "cell_type": "code",
   "execution_count": 207,
   "metadata": {},
   "outputs": [
    {
     "data": {
      "text/html": [
       "<div>\n",
       "<style scoped>\n",
       "    .dataframe tbody tr th:only-of-type {\n",
       "        vertical-align: middle;\n",
       "    }\n",
       "\n",
       "    .dataframe tbody tr th {\n",
       "        vertical-align: top;\n",
       "    }\n",
       "\n",
       "    .dataframe thead th {\n",
       "        text-align: right;\n",
       "    }\n",
       "</style>\n",
       "<table border=\"1\" class=\"dataframe\">\n",
       "  <thead>\n",
       "    <tr style=\"text-align: right;\">\n",
       "      <th></th>\n",
       "      <th>artist</th>\n",
       "      <th>auth</th>\n",
       "      <th>firstName</th>\n",
       "      <th>gender</th>\n",
       "      <th>itemInSession</th>\n",
       "      <th>lastName</th>\n",
       "      <th>length</th>\n",
       "      <th>level</th>\n",
       "      <th>location</th>\n",
       "      <th>method</th>\n",
       "      <th>page</th>\n",
       "      <th>registration</th>\n",
       "      <th>sessionId</th>\n",
       "      <th>song</th>\n",
       "      <th>status</th>\n",
       "      <th>ts</th>\n",
       "      <th>userAgent</th>\n",
       "      <th>userId</th>\n",
       "      <th>churn</th>\n",
       "      <th>paid_subscriber</th>\n",
       "    </tr>\n",
       "  </thead>\n",
       "  <tbody>\n",
       "    <tr>\n",
       "      <th>0</th>\n",
       "      <td>Martha Tilston</td>\n",
       "      <td>Logged In</td>\n",
       "      <td>Colin</td>\n",
       "      <td>M</td>\n",
       "      <td>50</td>\n",
       "      <td>Freeman</td>\n",
       "      <td>277.89016</td>\n",
       "      <td>paid</td>\n",
       "      <td>Bakersfield, CA</td>\n",
       "      <td>PUT</td>\n",
       "      <td>NextSong</td>\n",
       "      <td>1538173362000</td>\n",
       "      <td>29</td>\n",
       "      <td>Rockpools</td>\n",
       "      <td>200</td>\n",
       "      <td>1538352117000</td>\n",
       "      <td>Mozilla/5.0 (Windows NT 6.1; WOW64; rv:31.0) G...</td>\n",
       "      <td>30</td>\n",
       "      <td>0</td>\n",
       "      <td>1</td>\n",
       "    </tr>\n",
       "    <tr>\n",
       "      <th>1</th>\n",
       "      <td>Five Iron Frenzy</td>\n",
       "      <td>Logged In</td>\n",
       "      <td>Micah</td>\n",
       "      <td>M</td>\n",
       "      <td>79</td>\n",
       "      <td>Long</td>\n",
       "      <td>236.09424</td>\n",
       "      <td>free</td>\n",
       "      <td>Boston-Cambridge-Newton, MA-NH</td>\n",
       "      <td>PUT</td>\n",
       "      <td>NextSong</td>\n",
       "      <td>1538331630000</td>\n",
       "      <td>8</td>\n",
       "      <td>Canada</td>\n",
       "      <td>200</td>\n",
       "      <td>1538352180000</td>\n",
       "      <td>\"Mozilla/5.0 (Windows NT 6.1; WOW64) AppleWebK...</td>\n",
       "      <td>9</td>\n",
       "      <td>0</td>\n",
       "      <td>0</td>\n",
       "    </tr>\n",
       "    <tr>\n",
       "      <th>2</th>\n",
       "      <td>Adam Lambert</td>\n",
       "      <td>Logged In</td>\n",
       "      <td>Colin</td>\n",
       "      <td>M</td>\n",
       "      <td>51</td>\n",
       "      <td>Freeman</td>\n",
       "      <td>282.82730</td>\n",
       "      <td>paid</td>\n",
       "      <td>Bakersfield, CA</td>\n",
       "      <td>PUT</td>\n",
       "      <td>NextSong</td>\n",
       "      <td>1538173362000</td>\n",
       "      <td>29</td>\n",
       "      <td>Time For Miracles</td>\n",
       "      <td>200</td>\n",
       "      <td>1538352394000</td>\n",
       "      <td>Mozilla/5.0 (Windows NT 6.1; WOW64; rv:31.0) G...</td>\n",
       "      <td>30</td>\n",
       "      <td>0</td>\n",
       "      <td>1</td>\n",
       "    </tr>\n",
       "  </tbody>\n",
       "</table>\n",
       "</div>"
      ],
      "text/plain": [
       "             artist       auth firstName gender  itemInSession lastName  \\\n",
       "0    Martha Tilston  Logged In     Colin      M             50  Freeman   \n",
       "1  Five Iron Frenzy  Logged In     Micah      M             79     Long   \n",
       "2      Adam Lambert  Logged In     Colin      M             51  Freeman   \n",
       "\n",
       "      length level                        location method      page  \\\n",
       "0  277.89016  paid                 Bakersfield, CA    PUT  NextSong   \n",
       "1  236.09424  free  Boston-Cambridge-Newton, MA-NH    PUT  NextSong   \n",
       "2  282.82730  paid                 Bakersfield, CA    PUT  NextSong   \n",
       "\n",
       "    registration  sessionId               song  status             ts  \\\n",
       "0  1538173362000         29          Rockpools     200  1538352117000   \n",
       "1  1538331630000          8             Canada     200  1538352180000   \n",
       "2  1538173362000         29  Time For Miracles     200  1538352394000   \n",
       "\n",
       "                                           userAgent userId  churn  \\\n",
       "0  Mozilla/5.0 (Windows NT 6.1; WOW64; rv:31.0) G...     30      0   \n",
       "1  \"Mozilla/5.0 (Windows NT 6.1; WOW64) AppleWebK...      9      0   \n",
       "2  Mozilla/5.0 (Windows NT 6.1; WOW64; rv:31.0) G...     30      0   \n",
       "\n",
       "   paid_subscriber  \n",
       "0                1  \n",
       "1                0  \n",
       "2                1  "
      ]
     },
     "execution_count": 207,
     "metadata": {},
     "output_type": "execute_result"
    }
   ],
   "source": [
    "# Using SQL to aid in analysis\n",
    "df.createOrReplaceTempView(\"df_table\")\n",
    "\n",
    "# create pandas dataframe from sql view\n",
    "temp_df = spark.sql('''\n",
    "          SELECT * FROM df_table\n",
    "          '''\n",
    "          )\n",
    "pd_df = temp_df.toPandas()\n",
    "\n",
    "# Show data in Pandas dataframe\n",
    "pd_df.head(3)"
   ]
  },
  {
   "cell_type": "code",
   "execution_count": 208,
   "metadata": {},
   "outputs": [
    {
     "name": "stdout",
     "output_type": "stream",
     "text": [
      "The number of songs played by churned customers: 36394 out of 228108\n",
      "The percentage of songs played by churned customers: 16.0 %\n"
     ]
    }
   ],
   "source": [
    "# The number and percentage of songs played by churned customers\n",
    "ids = pd_df[pd_df.churn == 1][\"userId\"]\n",
    "temp_df = pd_df[(pd_df[\"userId\"].isin(ids))&(pd_df[\"page\"]==\"NextSong\")]\n",
    "song_df = pd_df[(pd_df[\"page\"]==\"NextSong\")]\n",
    "num_song_churn = len(temp_df.index)\n",
    "num_song = len(song_df.index)\n",
    "del pd_df\n",
    "\n",
    "print(\"The number of songs played by churned customers:\", num_song_churn, \"out of\", num_song)\n",
    "print(\"The percentage of songs played by churned customers:\", round(num_song_churn/num_song, 2)*100, \"%\")"
   ]
  },
  {
   "cell_type": "code",
   "execution_count": 197,
   "metadata": {},
   "outputs": [
    {
     "data": {
      "image/png": "[encoded data removed]",
      "text/plain": [
       "<Figure size 432x288 with 1 Axes>"
      ]
     },
     "metadata": {
      "needs_background": "light"
     },
     "output_type": "display_data"
    }
   ],
   "source": [
    "# The comparison of the different genders in both churned and retained customers\n",
    "tmp_df = df.groupby([\"userId\"]).agg(F.max(\"churn\").alias(\"churn\"))  # Map userId to churn\n",
    "tmp_df = tmp_df.select(\"userId\",\"churn\").join(df.select(\"userId\",\"gender\")\\\n",
    "                                                .dropDuplicates([\"userId\"]), \"userId\") # Map userId to gender\n",
    "\n",
    "tmp_df = tmp_df.groupby([\"churn\", \"gender\"]).count().sort(\"churn\").toPandas()\n",
    "ax = sns.barplot(x='churn', y='count', hue='gender', data=tmp_df)\n",
    "plt.ylabel('')\n",
    "plt.legend(title='Gender', loc='best')\n",
    "plt.title('The number of males and females in both the retained and the churned group')\n",
    "sns.despine(ax=ax);"
   ]
  },
  {
   "cell_type": "code",
   "execution_count": 211,
   "metadata": {},
   "outputs": [
    {
     "data": {
      "image/png": "[encoded data removed]",
      "text/plain": [
       "<Figure size 432x288 with 1 Axes>"
      ]
     },
     "metadata": {
      "needs_background": "light"
     },
     "output_type": "display_data"
    }
   ],
   "source": [
    "# The average length of time as user for the churned and retained customers\n",
    "tmp_df = df.select(\"userId\",\"registration\",\"ts\")\n",
    "tmp_df = tmp_df.withColumn(\"time_length\",(tmp_df.ts-tmp_df.registration)) \\\n",
    "                .groupBy(\"userId\") \\\n",
    "                .agg(F.max(\"time_length\").alias(\"user_time\")) \\\n",
    "                .select(\"userId\", (col(\"user_time\")/1000/60/60/24).alias(\"user_days\")) # Map userId to subscriber duration\n",
    "tmp_df_2 = df.groupby([\"userId\"]).agg(F.max(\"churn\").alias(\"churn\")) # Map userId to churn\n",
    "\n",
    "tmp_df = tmp_df_2.select(\"userId\",\"churn\").join(tmp_df.select(\"userId\",\"user_days\"), \"userId\")\n",
    "tmp_df = tmp_df.groupby([\"churn\"]).agg(F.avg(\"user_days\").alias(\"average_days\")).sort(\"churn\").toPandas()\n",
    "\n",
    "ax = sns.barplot(data=tmp_df, x='churn', y='average_days', color=sns.color_palette()[0])\n",
    "plt.ylabel('')\n",
    "plt.title('Comparison of the average number of subscription days for churned and retained users on Sparkify')\n",
    "sns.despine(ax=ax);"
   ]
  },
  {
   "cell_type": "markdown",
   "metadata": {},
   "source": [
    "# Feature Engineering\n",
    "Once you've familiarized yourself with the data, build out the features you find promising to train your model on. To work with the full dataset, you can follow the following steps.\n",
    "- Write a script to extract the necessary features from the smaller subset of data\n",
    "- Ensure that your script is scalable, using the best practices discussed in Lesson 3\n",
    "- Try your script on the full data set, debugging your script if necessary\n",
    "\n",
    "If you are working in the classroom workspace, you can just extract features based on the small subset of data contained here. Be sure to transfer over this work to the larger dataset when you work on your Spark cluster."
   ]
  },
  {
   "cell_type": "code",
   "execution_count": 30,
   "metadata": {},
   "outputs": [
    {
     "name": "stdout",
     "output_type": "stream",
     "text": [
      "+--------------------+\n",
      "|                page|\n",
      "+--------------------+\n",
      "|               About|\n",
      "|          Add Friend|\n",
      "|     Add to Playlist|\n",
      "|              Cancel|\n",
      "|Cancellation Conf...|\n",
      "|           Downgrade|\n",
      "|               Error|\n",
      "|                Help|\n",
      "|                Home|\n",
      "|              Logout|\n",
      "|            NextSong|\n",
      "|         Roll Advert|\n",
      "|       Save Settings|\n",
      "|            Settings|\n",
      "|    Submit Downgrade|\n",
      "|      Submit Upgrade|\n",
      "|         Thumbs Down|\n",
      "|           Thumbs Up|\n",
      "|             Upgrade|\n",
      "+--------------------+\n",
      "\n"
     ]
    }
   ],
   "source": [
    "# Display the categories in the page field\n",
    "df.select(\"page\").dropDuplicates().sort(\"page\").show()"
   ]
  },
  {
   "cell_type": "markdown",
   "metadata": {},
   "source": [
    "### Create the Dataset for Model Training"
   ]
  },
  {
   "cell_type": "code",
   "execution_count": 31,
   "metadata": {},
   "outputs": [
    {
     "name": "stdout",
     "output_type": "stream",
     "text": [
      "+------+\n",
      "|userId|\n",
      "+------+\n",
      "|100010|\n",
      "|200002|\n",
      "|   125|\n",
      "|    51|\n",
      "|   124|\n",
      "|     7|\n",
      "|    54|\n",
      "|    15|\n",
      "|   155|\n",
      "|   132|\n",
      "+------+\n",
      "only showing top 10 rows\n",
      "\n"
     ]
    }
   ],
   "source": [
    "# Make each row of the dataset for modelling represent a user and create the first column\n",
    "model_df = df.groupby(\"userId\").count().select(\"userId\")\n",
    "model_df.persist()\n",
    "model_df.show(10)"
   ]
  },
  {
   "cell_type": "markdown",
   "metadata": {},
   "source": [
    "### The Gender Field"
   ]
  },
  {
   "cell_type": "code",
   "execution_count": 32,
   "metadata": {},
   "outputs": [
    {
     "name": "stdout",
     "output_type": "stream",
     "text": [
      "+------+-------+\n",
      "|userId|gender_|\n",
      "+------+-------+\n",
      "|100010|      F|\n",
      "|200002|      M|\n",
      "|   125|      M|\n",
      "|   124|      F|\n",
      "|    51|      M|\n",
      "|     7|      M|\n",
      "|    15|      M|\n",
      "|    54|      F|\n",
      "|   155|      F|\n",
      "|100014|      M|\n",
      "+------+-------+\n",
      "only showing top 10 rows\n",
      "\n"
     ]
    }
   ],
   "source": [
    "# create gender field corresponding to the userId field\n",
    "model_df = df.groupby(\"userId\").agg(F.first(\"gender\").alias(\"gender_\"))\n",
    "model_df.show(10)"
   ]
  },
  {
   "cell_type": "code",
   "execution_count": 33,
   "metadata": {},
   "outputs": [
    {
     "name": "stdout",
     "output_type": "stream",
     "text": [
      "+------+------+\n",
      "|userId|gender|\n",
      "+------+------+\n",
      "|100010|     0|\n",
      "|200002|     1|\n",
      "|   125|     1|\n",
      "|   124|     0|\n",
      "|    51|     1|\n",
      "|     7|     1|\n",
      "|    15|     1|\n",
      "|    54|     0|\n",
      "|   155|     0|\n",
      "|100014|     1|\n",
      "+------+------+\n",
      "only showing top 10 rows\n",
      "\n"
     ]
    }
   ],
   "source": [
    "# Set binary value for the gender field\n",
    "set_bin_value = udf(lambda x: 1 if x == \"M\" else 0, IntegerType())\n",
    "model_df = model_df.withColumn(\"gender\", set_bin_value(\"gender_\"))\n",
    "model_df = model_df.drop(\"gender_\")\n",
    "model_df.show(10)"
   ]
  },
  {
   "cell_type": "markdown",
   "metadata": {},
   "source": [
    "### The Paid Subscriber Field"
   ]
  },
  {
   "cell_type": "code",
   "execution_count": 34,
   "metadata": {},
   "outputs": [
    {
     "name": "stdout",
     "output_type": "stream",
     "text": [
      "+------+------+---------------+\n",
      "|userId|gender|paid_subscriber|\n",
      "+------+------+---------------+\n",
      "|100010|     0|              0|\n",
      "|200002|     1|              1|\n",
      "|   125|     1|              0|\n",
      "|   124|     0|              1|\n",
      "|    51|     1|              1|\n",
      "|     7|     1|              0|\n",
      "|    15|     1|              1|\n",
      "|    54|     0|              1|\n",
      "|   155|     0|              1|\n",
      "|100014|     1|              1|\n",
      "+------+------+---------------+\n",
      "only showing top 10 rows\n",
      "\n"
     ]
    }
   ],
   "source": [
    "# Create a column to flag a user, if the user has ever been a paid-level customer\n",
    "# create function to check for the paid level event\n",
    "flag_paid_event = udf(lambda x: 1 if x == \"paid\" else 0, IntegerType())\n",
    "\n",
    "# Create paid_subscriber column\n",
    "df = df.withColumn(\"paid_subscriber\", flag_paid_event(\"level\"))\n",
    "tmp_df = df.groupby(\"userId\").agg(F.max(\"paid_subscriber\").alias(\"paid_subscriber\"))\n",
    "\n",
    "tmp_df.persist()\n",
    "model_df.persist()\n",
    "model_df = model_df.join(tmp_df.select(\"userId\",\"paid_subscriber\"), \"userId\")\n",
    "model_df.show(10)"
   ]
  },
  {
   "cell_type": "markdown",
   "metadata": {},
   "source": [
    "### The Number of Songs Field"
   ]
  },
  {
   "cell_type": "code",
   "execution_count": 35,
   "metadata": {},
   "outputs": [],
   "source": [
    "# Create a column based on the number songs each user has played\n",
    "tmp_df = df.groupBy(\"userId\",\"page\").count()\n",
    "tmp_df.persist()\n",
    "\n",
    "def tmp_func(df_row, lookup):\n",
    "    \"\"\" tmp_func takes in a row of the pyspark dataframe and returns the value of\n",
    "        the count column if the page column has the value in the lookup variable.\n",
    "\n",
    "    Args:\n",
    "        df_row (obj): represents a row of pyspark dataframe.\n",
    "        lookup (string): the value to check for.\n",
    "\n",
    "    Returns:\n",
    "        int: The count column value or 0.\n",
    "    \"\"\"\n",
    "    trk = False\n",
    "    tmp_str = \"\"\n",
    "    for i, x in enumerate(df_row):\n",
    "        if x == lookup and i == 1:\n",
    "            trk = True\n",
    "        if i == 2:\n",
    "            if trk:\n",
    "                return x\n",
    "            else: \n",
    "                return 0"
   ]
  },
  {
   "cell_type": "code",
   "execution_count": 36,
   "metadata": {},
   "outputs": [
    {
     "name": "stdout",
     "output_type": "stream",
     "text": [
      "+------+------+---------------+---------+\n",
      "|userId|gender|paid_subscriber|num_songs|\n",
      "+------+------+---------------+---------+\n",
      "|100010|     0|              0|      275|\n",
      "|200002|     1|              1|      387|\n",
      "|   125|     1|              0|        8|\n",
      "|   124|     0|              1|     4079|\n",
      "|    51|     1|              1|     2111|\n",
      "|     7|     1|              0|      150|\n",
      "|    15|     1|              1|     1914|\n",
      "|    54|     0|              1|     2841|\n",
      "|   155|     0|              1|      820|\n",
      "|100014|     1|              1|      257|\n",
      "+------+------+---------------+---------+\n",
      "only showing top 10 rows\n",
      "\n"
     ]
    }
   ],
   "source": [
    "set_page_mask = udf(lambda row: tmp_func(row, \"NextSong\"), IntegerType())\n",
    "tmp_df = tmp_df.withColumn(\"page_mask\", set_page_mask(F.struct([tmp_df[x] for x in tmp_df.columns])))\n",
    "\n",
    "tmp_df = tmp_df.groupBy(\"userId\").agg(F.max(\"page_mask\").alias(\"num_songs\"))\n",
    "\n",
    "tmp_df.persist()\n",
    "model_df.persist()\n",
    "model_df = model_df.join(tmp_df.select(\"userId\",\"num_songs\"), \"userId\")\n",
    "\n",
    "model_df.show(10)"
   ]
  },
  {
   "cell_type": "markdown",
   "metadata": {},
   "source": [
    "### The Thumbs Up Field"
   ]
  },
  {
   "cell_type": "code",
   "execution_count": 37,
   "metadata": {},
   "outputs": [
    {
     "name": "stdout",
     "output_type": "stream",
     "text": [
      "+------+------+---------------+---------+---------+\n",
      "|userId|gender|paid_subscriber|num_songs|thumbs_up|\n",
      "+------+------+---------------+---------+---------+\n",
      "|100010|     0|              0|      275|       17|\n",
      "|200002|     1|              1|      387|       21|\n",
      "|   125|     1|              0|        8|        0|\n",
      "|   124|     0|              1|     4079|      171|\n",
      "|    51|     1|              1|     2111|      100|\n",
      "|     7|     1|              0|      150|        7|\n",
      "|    15|     1|              1|     1914|       81|\n",
      "|    54|     0|              1|     2841|      163|\n",
      "|   155|     0|              1|      820|       58|\n",
      "|100014|     1|              1|      257|       17|\n",
      "+------+------+---------------+---------+---------+\n",
      "only showing top 10 rows\n",
      "\n"
     ]
    }
   ],
   "source": [
    "# Create a column to compute the nummber of thumps up given to songs\n",
    "tmp_df = df.groupBy(\"userId\",\"page\").count()\n",
    "tmp_df.persist()\n",
    "\n",
    "set_page_mask = udf(lambda row: tmp_func(row, \"Thumbs Up\"), IntegerType())\n",
    "tmp_df = tmp_df.withColumn(\"page_mask\", set_page_mask(F.struct([tmp_df[x] for x in tmp_df.columns])))\n",
    "\n",
    "tmp_df = tmp_df.groupBy(\"userId\").agg(F.max(\"page_mask\").alias(\"thumbs_up\"))\n",
    "\n",
    "tmp_df.persist()\n",
    "model_df.persist()\n",
    "model_df = model_df.join(tmp_df.select(\"userId\",\"thumbs_up\"), \"userId\")\n",
    "\n",
    "model_df.show(10)"
   ]
  },
  {
   "cell_type": "markdown",
   "metadata": {},
   "source": [
    "### The Thumbs Down Field"
   ]
  },
  {
   "cell_type": "code",
   "execution_count": 38,
   "metadata": {},
   "outputs": [
    {
     "name": "stdout",
     "output_type": "stream",
     "text": [
      "+------+------+---------------+---------+---------+-----------+\n",
      "|userId|gender|paid_subscriber|num_songs|thumbs_up|thumbs_down|\n",
      "+------+------+---------------+---------+---------+-----------+\n",
      "|100010|     0|              0|      275|       17|          5|\n",
      "|200002|     1|              1|      387|       21|          6|\n",
      "|   125|     1|              0|        8|        0|          0|\n",
      "|   124|     0|              1|     4079|      171|         41|\n",
      "|    51|     1|              1|     2111|      100|         21|\n",
      "|     7|     1|              0|      150|        7|          1|\n",
      "|    15|     1|              1|     1914|       81|         14|\n",
      "|    54|     0|              1|     2841|      163|         29|\n",
      "|   155|     0|              1|      820|       58|          3|\n",
      "|100014|     1|              1|      257|       17|          3|\n",
      "+------+------+---------------+---------+---------+-----------+\n",
      "only showing top 10 rows\n",
      "\n"
     ]
    }
   ],
   "source": [
    "# Create a column to compute the nummber of thumps down given to songs\n",
    "tmp_df = df.groupBy(\"userId\",\"page\").count()\n",
    "tmp_df.persist()\n",
    "\n",
    "set_page_mask = udf(lambda row: tmp_func(row, \"Thumbs Down\"), IntegerType())\n",
    "tmp_df = tmp_df.withColumn(\"page_mask\", set_page_mask(F.struct([tmp_df[x] for x in tmp_df.columns])))\n",
    "\n",
    "tmp_df = tmp_df.groupBy(\"userId\").agg(F.max(\"page_mask\").alias(\"thumbs_down\"))\n",
    "\n",
    "tmp_df.persist()\n",
    "model_df.persist()\n",
    "model_df = model_df.join(tmp_df.select(\"userId\",\"thumbs_down\"), \"userId\")\n",
    "\n",
    "model_df.show(10)"
   ]
  },
  {
   "cell_type": "markdown",
   "metadata": {},
   "source": [
    "### The Duration Field"
   ]
  },
  {
   "cell_type": "code",
   "execution_count": 39,
   "metadata": {},
   "outputs": [],
   "source": [
    "def duration_func(df_row):\n",
    "    \"\"\" duration_func takes in a row of the pyspark dataframe and returns the difference\n",
    "        between the registration_date and the latest_time column in days.\n",
    "\n",
    "    Args:\n",
    "        df_row (obj): represents a row of pyspark dataframe.\n",
    "\n",
    "    Returns:\n",
    "        float: The duration of subscription.\n",
    "    \"\"\"\n",
    "    tmp_val_1 = 0\n",
    "    tmp_val_2 = 0\n",
    "    for i, x in enumerate(df_row):\n",
    "        if i == 1:\n",
    "            tmp_val_1 = float(x)\n",
    "        elif i == 2:\n",
    "            tmp_val_2 = float(x)\n",
    "            return round((tmp_val_2 - tmp_val_1)/(1000*60*60*24), 2)"
   ]
  },
  {
   "cell_type": "code",
   "execution_count": 40,
   "metadata": {},
   "outputs": [
    {
     "name": "stdout",
     "output_type": "stream",
     "text": [
      "+------+------+---------------+---------+---------+-----------+--------+\n",
      "|userId|gender|paid_subscriber|num_songs|thumbs_up|thumbs_down|duration|\n",
      "+------+------+---------------+---------+---------+-----------+--------+\n",
      "|100010|     0|              0|      275|       17|          5| 55.6437|\n",
      "|200002|     1|              1|      387|       21|          6| 70.0746|\n",
      "|   125|     1|              0|        8|        0|          0| 71.3169|\n",
      "|   124|     0|              1|     4079|      171|         41|131.5559|\n",
      "|    51|     1|              1|     2111|      100|         21| 19.4558|\n",
      "|     7|     1|              0|      150|        7|          1| 72.7782|\n",
      "|    15|     1|              1|     1914|       81|         14| 56.5136|\n",
      "|    54|     0|              1|     2841|      163|         29|110.7517|\n",
      "|   155|     0|              1|      820|       58|          3|  23.556|\n",
      "|100014|     1|              1|      257|       17|          3| 85.0834|\n",
      "+------+------+---------------+---------+---------+-----------+--------+\n",
      "only showing top 10 rows\n",
      "\n"
     ]
    }
   ],
   "source": [
    "# Create the duration column to capture how long a user has been a subscriber\n",
    "tmp_df = df.groupby(\"userId\").agg(F.max(\"registration\").alias(\"registration_date\"))\n",
    "tmp_df_2 = df.groupby(\"userId\").agg(F.max(\"ts\").alias(\"latest_time\"))\n",
    "tmp_df.persist()\n",
    "model_df.persist()\n",
    "tmp_df = tmp_df.join(tmp_df_2.select(\"userId\",\"latest_time\"), \"userId\")\n",
    "\n",
    "set_duration = udf(lambda row: duration_func(row), FloatType())\n",
    "tmp_df = tmp_df.withColumn(\"duration\", set_duration(F.struct([tmp_df[x] for x in tmp_df.columns])))\n",
    "\n",
    "tmp_df.persist()\n",
    "model_df.persist()\n",
    "model_df = model_df.join(tmp_df.select(\"userId\",\"duration\"), \"userId\")\n",
    "\n",
    "model_df.show(10)"
   ]
  },
  {
   "cell_type": "markdown",
   "metadata": {},
   "source": [
    "### Append Label"
   ]
  },
  {
   "cell_type": "code",
   "execution_count": 41,
   "metadata": {},
   "outputs": [
    {
     "name": "stdout",
     "output_type": "stream",
     "text": [
      "+------+------+---------------+---------+---------+-----------+--------+-----+\n",
      "|userId|gender|paid_subscriber|num_songs|thumbs_up|thumbs_down|duration|churn|\n",
      "+------+------+---------------+---------+---------+-----------+--------+-----+\n",
      "|100010|     0|              0|      275|       17|          5| 55.6437|    0|\n",
      "|200002|     1|              1|      387|       21|          6| 70.0746|    0|\n",
      "|   125|     1|              0|        8|        0|          0| 71.3169|    1|\n",
      "|   124|     0|              1|     4079|      171|         41|131.5559|    0|\n",
      "|    51|     1|              1|     2111|      100|         21| 19.4558|    1|\n",
      "|     7|     1|              0|      150|        7|          1| 72.7782|    0|\n",
      "|    15|     1|              1|     1914|       81|         14| 56.5136|    0|\n",
      "|    54|     0|              1|     2841|      163|         29|110.7517|    1|\n",
      "|   155|     0|              1|      820|       58|          3|  23.556|    0|\n",
      "|100014|     1|              1|      257|       17|          3| 85.0834|    1|\n",
      "+------+------+---------------+---------+---------+-----------+--------+-----+\n",
      "only showing top 10 rows\n",
      "\n"
     ]
    }
   ],
   "source": [
    "# create the label column\n",
    "flag_cancellation_event = udf(lambda x: 1 if x == \"Cancellation Confirmation\" else 0, IntegerType())\n",
    "\n",
    "tmp_df = df.groupby(\"userId\").agg(F.max(\"churn\").alias(\"churn\"))\n",
    "tmp_df.persist()\n",
    "model_df.persist()\n",
    "model_df = model_df.join(tmp_df.select(\"userId\",\"churn\"), \"userId\")\n",
    "model_df.show(10)"
   ]
  },
  {
   "cell_type": "markdown",
   "metadata": {},
   "source": [
    "### Prepare Features for Modeling"
   ]
  },
  {
   "cell_type": "code",
   "execution_count": 46,
   "metadata": {},
   "outputs": [
    {
     "name": "stdout",
     "output_type": "stream",
     "text": [
      "+------+---------------+---------+---------+-----------+--------+-----+\n",
      "|gender|paid_subscriber|num_songs|thumbs_up|thumbs_down|duration|churn|\n",
      "+------+---------------+---------+---------+-----------+--------+-----+\n",
      "|     0|              0|      275|       17|          5| 55.6437|    0|\n",
      "|     1|              1|      387|       21|          6| 70.0746|    0|\n",
      "|     1|              0|        8|        0|          0| 71.3169|    1|\n",
      "|     0|              1|     4079|      171|         41|131.5559|    0|\n",
      "|     1|              1|     2111|      100|         21| 19.4558|    1|\n",
      "|     1|              0|      150|        7|          1| 72.7782|    0|\n",
      "|     1|              1|     1914|       81|         14| 56.5136|    0|\n",
      "|     0|              1|     2841|      163|         29|110.7517|    1|\n",
      "|     0|              1|      820|       58|          3|  23.556|    0|\n",
      "|     1|              1|      257|       17|          3| 85.0834|    1|\n",
      "+------+---------------+---------+---------+-----------+--------+-----+\n",
      "only showing top 10 rows\n",
      "\n"
     ]
    }
   ],
   "source": [
    "# Drop the userId column\n",
    "model_df = model_df.drop(\"userId\")\n",
    "model_df.show(10)"
   ]
  },
  {
   "cell_type": "code",
   "execution_count": 47,
   "metadata": {},
   "outputs": [
    {
     "name": "stdout",
     "output_type": "stream",
     "text": [
      "+------+---------------+---------+---------+-----------+--------+-----+--------------------+\n",
      "|gender|paid_subscriber|num_songs|thumbs_up|thumbs_down|duration|churn|            features|\n",
      "+------+---------------+---------+---------+-----------+--------+-----+--------------------+\n",
      "|     0|              0|      275|       17|          5| 55.6437|    0|[0.0,0.0,275.0,17...|\n",
      "|     1|              1|      387|       21|          6| 70.0746|    0|[1.0,1.0,387.0,21...|\n",
      "|     1|              0|        8|        0|          0| 71.3169|    1|[1.0,0.0,8.0,0.0,...|\n",
      "|     0|              1|     4079|      171|         41|131.5559|    0|[0.0,1.0,4079.0,1...|\n",
      "|     1|              1|     2111|      100|         21| 19.4558|    1|[1.0,1.0,2111.0,1...|\n",
      "|     1|              0|      150|        7|          1| 72.7782|    0|[1.0,0.0,150.0,7....|\n",
      "|     1|              1|     1914|       81|         14| 56.5136|    0|[1.0,1.0,1914.0,8...|\n",
      "|     0|              1|     2841|      163|         29|110.7517|    1|[0.0,1.0,2841.0,1...|\n",
      "|     0|              1|      820|       58|          3|  23.556|    0|[0.0,1.0,820.0,58...|\n",
      "|     1|              1|      257|       17|          3| 85.0834|    1|[1.0,1.0,257.0,17...|\n",
      "+------+---------------+---------+---------+-----------+--------+-----+--------------------+\n",
      "only showing top 10 rows\n",
      "\n"
     ]
    }
   ],
   "source": [
    "# create a vector from the fields created above\n",
    "assembler = VectorAssembler(inputCols=[\"gender\", \"paid_subscriber\", \"num_songs\", \"thumbs_up\", \"thumbs_down\", \"duration\"],\\\n",
    "                            outputCol=\"features\")\n",
    "model_df = assembler.transform(model_df)\n",
    "model_df.show(10)"
   ]
  },
  {
   "cell_type": "markdown",
   "metadata": {},
   "source": [
    "### Min-Max Scaling"
   ]
  },
  {
   "cell_type": "code",
   "execution_count": 48,
   "metadata": {
    "scrolled": true
   },
   "outputs": [
    {
     "name": "stdout",
     "output_type": "stream",
     "text": [
      "+------+---------------+---------+---------+-----------+--------+-----+--------------------+--------------------+\n",
      "|gender|paid_subscriber|num_songs|thumbs_up|thumbs_down|duration|churn|            features|     scaled_features|\n",
      "+------+---------------+---------+---------+-----------+--------+-----+--------------------+--------------------+\n",
      "|     0|              0|      275|       17|          5| 55.6437|    0|[0.0,0.0,275.0,17...|[0.0,0.0,0.034004...|\n",
      "|     1|              1|      387|       21|          6| 70.0746|    0|[1.0,1.0,387.0,21...|[1.0,1.0,0.048006...|\n",
      "|     1|              0|        8|        0|          0| 71.3169|    1|[1.0,0.0,8.0,0.0,...|[1.0,0.0,6.250781...|\n",
      "|     0|              1|     4079|      171|         41|131.5559|    0|[0.0,1.0,4079.0,1...|[0.0,1.0,0.509563...|\n",
      "|     1|              1|     2111|      100|         21| 19.4558|    1|[1.0,1.0,2111.0,1...|[1.0,1.0,0.263532...|\n",
      "|     1|              0|      150|        7|          1| 72.7782|    0|[1.0,0.0,150.0,7....|[1.0,0.0,0.018377...|\n",
      "|     1|              1|     1914|       81|         14| 56.5136|    0|[1.0,1.0,1914.0,8...|[1.0,1.0,0.238904...|\n",
      "|     0|              1|     2841|      163|         29|110.7517|    1|[0.0,1.0,2841.0,1...|[0.0,1.0,0.354794...|\n",
      "|     0|              1|      820|       58|          3|  23.556|    0|[0.0,1.0,820.0,58...|[0.0,1.0,0.102137...|\n",
      "|     1|              1|      257|       17|          3| 85.0834|    1|[1.0,1.0,257.0,17...|[1.0,1.0,0.031753...|\n",
      "+------+---------------+---------+---------+-----------+--------+-----+--------------------+--------------------+\n",
      "only showing top 10 rows\n",
      "\n"
     ]
    }
   ],
   "source": [
    "# Apply min-max scaling to scale features between 0 & 1\n",
    "scaler = MinMaxScaler(inputCol=\"features\", outputCol=\"scaled_features\")\n",
    "scalerModel = scaler.fit(model_df)\n",
    "model_df = scalerModel.transform(model_df)\n",
    "model_df.show(10)"
   ]
  },
  {
   "cell_type": "code",
   "execution_count": 50,
   "metadata": {},
   "outputs": [
    {
     "name": "stdout",
     "output_type": "stream",
     "text": [
      "+-----+--------------------+\n",
      "|label|            features|\n",
      "+-----+--------------------+\n",
      "|    0|[0.0,0.0,0.034004...|\n",
      "|    0|[1.0,1.0,0.048006...|\n",
      "|    1|[1.0,0.0,6.250781...|\n",
      "|    0|[0.0,1.0,0.509563...|\n",
      "|    1|[1.0,1.0,0.263532...|\n",
      "|    0|[1.0,0.0,0.018377...|\n",
      "|    0|[1.0,1.0,0.238904...|\n",
      "|    1|[0.0,1.0,0.354794...|\n",
      "|    0|[0.0,1.0,0.102137...|\n",
      "|    1|[1.0,1.0,0.031753...|\n",
      "+-----+--------------------+\n",
      "only showing top 10 rows\n",
      "\n"
     ]
    }
   ],
   "source": [
    "data_set = model_df.select(col(\"churn\").alias(\"label\"), col(\"scaled_features\").alias(\"features\"))\n",
    "data_set.show(10)"
   ]
  },
  {
   "cell_type": "markdown",
   "metadata": {},
   "source": [
    "# Modeling\n",
    "Split the full dataset into train, test, and validation sets. Test out several of the machine learning methods you learned. Evaluate the accuracy of the various models, tuning parameters as necessary. Determine your winning model based on test accuracy and report results on the validation set. Since the churned users are a fairly small subset, I suggest using F1 score as the metric to optimize."
   ]
  },
  {
   "cell_type": "code",
   "execution_count": 51,
   "metadata": {},
   "outputs": [],
   "source": [
    "# Split the full dataset into train, test, and validation sets\n",
    "train, test, validation = data_set.randomSplit([0.6, 0.2, 0.2], seed=42)"
   ]
  },
  {
   "cell_type": "markdown",
   "metadata": {},
   "source": [
    "### Logistic Regression"
   ]
  },
  {
   "cell_type": "code",
   "execution_count": 123,
   "metadata": {},
   "outputs": [
    {
     "name": "stdout",
     "output_type": "stream",
     "text": [
      "Training time: 38.1 seconds\n",
      "Accuracy: 0.5625\n",
      "F1-score: 0.405\n"
     ]
    }
   ],
   "source": [
    "# create logistic regression model\n",
    "log_reg =  LogisticRegression(maxIter=20) # Default maxIter=100\n",
    "start = time.time()\n",
    "log_reg_model = log_reg.fit(train)\n",
    "stop = time.time()\n",
    "print('Training time:', round(stop-start, 1), 'seconds')\n",
    "val_prediction = log_reg_model.transform(validation)\n",
    "\n",
    "evaluator = MulticlassClassificationEvaluator(predictionCol=\"prediction\", labelCol='label')\n",
    "acc_score = evaluator.evaluate(val_prediction, {evaluator.metricName: \"accuracy\"})\n",
    "f1_score = evaluator.evaluate(val_prediction, {evaluator.metricName: \"f1\"})\n",
    "print('Accuracy:', round(acc_score, 4))\n",
    "print('F1-score:', round(f1_score, 4))"
   ]
  },
  {
   "cell_type": "markdown",
   "metadata": {},
   "source": [
    "### Decision Trees"
   ]
  },
  {
   "cell_type": "code",
   "execution_count": 124,
   "metadata": {},
   "outputs": [
    {
     "name": "stdout",
     "output_type": "stream",
     "text": [
      "Training time: 14.9 seconds\n",
      "Accuracy: 0.75\n",
      "F1-score: 0.7227\n"
     ]
    }
   ],
   "source": [
    "dec_tree = DecisionTreeClassifier(maxDepth=5, seed=42)\n",
    "start = time.time()\n",
    "dec_tree_model = dec_tree.fit(train)\n",
    "stop = time.time()\n",
    "print('Training time:', round(stop-start, 1), 'seconds')\n",
    "val_prediction = dec_tree_model.transform(validation)\n",
    "\n",
    "evaluator = MulticlassClassificationEvaluator(predictionCol=\"prediction\", labelCol='label')\n",
    "acc_score = evaluator.evaluate(val_prediction, {evaluator.metricName: \"accuracy\"})\n",
    "f1_score = evaluator.evaluate(val_prediction, {evaluator.metricName: \"f1\"})\n",
    "print('Accuracy:', round(acc_score, 4))\n",
    "print('F1-score:', round(f1_score, 4))"
   ]
  },
  {
   "cell_type": "markdown",
   "metadata": {},
   "source": [
    "### Gradient Boosted Trees"
   ]
  },
  {
   "cell_type": "code",
   "execution_count": 125,
   "metadata": {},
   "outputs": [
    {
     "name": "stdout",
     "output_type": "stream",
     "text": [
      "Training time: 248.9 seconds\n",
      "Accuracy: 0.6875\n",
      "F1-score: 0.6347\n"
     ]
    }
   ],
   "source": [
    "# create the Gradient-Boosted Trees model\n",
    "gb_tree =  GBTClassifier(maxIter=20, seed=42)\n",
    "start = time.time()\n",
    "gb_tree_model = gb_tree.fit(train)\n",
    "stop = time.time()\n",
    "print('Training time:', round(stop-start, 1), 'seconds')\n",
    "val_prediction = gb_tree_model.transform(validation)\n",
    "\n",
    "evaluator = MulticlassClassificationEvaluator(predictionCol=\"prediction\", labelCol='label')\n",
    "acc_score = evaluator.evaluate(val_prediction, {evaluator.metricName: \"accuracy\"})\n",
    "f1_score = evaluator.evaluate(val_prediction, {evaluator.metricName: \"f1\"})\n",
    "print('Accuracy:', round(acc_score, 4))\n",
    "print('F1-score:', round(f1_score, 4))"
   ]
  },
  {
   "cell_type": "markdown",
   "metadata": {},
   "source": [
    "### Tune Best Model"
   ]
  },
  {
   "cell_type": "code",
   "execution_count": 126,
   "metadata": {},
   "outputs": [],
   "source": [
    "# define parameter grid\n",
    "paramGrid = ParamGridBuilder() \\\n",
    "            .addGrid(dec_tree.maxDepth,[4, 5]) \\\n",
    "            .addGrid(dec_tree.maxBins, [32, 33]) \\\n",
    "            .build()\n",
    "\n",
    "# create evaluator\n",
    "evaluator = MulticlassClassificationEvaluator(metricName='f1')\n",
    "\n",
    "# define the CrossValidator\n",
    "cross_val = CrossValidator(estimator=dec_tree,\n",
    "                          estimatorParamMaps=paramGrid,\n",
    "                          evaluator=evaluator,\n",
    "                          numFolds=3,\n",
    "                          seed=42)"
   ]
  },
  {
   "cell_type": "code",
   "execution_count": 127,
   "metadata": {},
   "outputs": [
    {
     "name": "stdout",
     "output_type": "stream",
     "text": [
      "Training time: 187.6 seconds\n"
     ]
    }
   ],
   "source": [
    "start = time.time()\n",
    "cv_model = cross_val.fit(train)\n",
    "stop = time.time()\n",
    "print('Training time:', round(stop-start, 1), 'seconds')"
   ]
  },
  {
   "cell_type": "code",
   "execution_count": 198,
   "metadata": {},
   "outputs": [
    {
     "name": "stdout",
     "output_type": "stream",
     "text": [
      "Accuracy: 0.6875\n",
      "F1-score: 0.6347\n"
     ]
    }
   ],
   "source": [
    "best_model = cv_model.bestModel\n",
    "val_prediction = best_model.transform(validation)\n",
    "\n",
    "evaluator = MulticlassClassificationEvaluator(predictionCol=\"prediction\", labelCol='label')\n",
    "acc_score = evaluator.evaluate(val_prediction, {evaluator.metricName: \"accuracy\"})\n",
    "f1_score = evaluator.evaluate(val_prediction, {evaluator.metricName: \"f1\"})\n",
    "print('Accuracy:', round(acc_score, 4))\n",
    "print('F1-score:', round(f1_score, 4))"
   ]
  },
  {
   "cell_type": "code",
   "execution_count": 199,
   "metadata": {},
   "outputs": [
    {
     "name": "stdout",
     "output_type": "stream",
     "text": [
      "maxDepth: 4\n",
      "maxBins: 32\n"
     ]
    }
   ],
   "source": [
    "# Optimal parameters\n",
    "print('maxDepth:', best_model._java_obj.getMaxDepth())\n",
    "print('maxBins:', best_model._java_obj.getMaxBins())"
   ]
  },
  {
   "cell_type": "markdown",
   "metadata": {},
   "source": [
    "### The Best model"
   ]
  },
  {
   "cell_type": "code",
   "execution_count": 234,
   "metadata": {},
   "outputs": [
    {
     "name": "stdout",
     "output_type": "stream",
     "text": [
      "Training time: 19.2 seconds\n",
      "Accuracy: 0.7222\n",
      "F1-score: 0.7373\n"
     ]
    }
   ],
   "source": [
    "dec_tree = DecisionTreeClassifier(maxDepth=5, seed=42)\n",
    "start = time.time()\n",
    "dec_tree_model = dec_tree.fit(train)\n",
    "stop = time.time()\n",
    "print('Training time:', round(stop-start, 1), 'seconds')\n",
    "\n",
    "test_prediction = dec_tree_model.transform(test)\n",
    "evaluator = MulticlassClassificationEvaluator(predictionCol=\"prediction\", labelCol='label')\n",
    "acc_score = evaluator.evaluate(test_prediction, {evaluator.metricName: \"accuracy\"})\n",
    "f1_score = evaluator.evaluate(test_prediction, {evaluator.metricName: \"f1\"})\n",
    "print('Accuracy:', round(acc_score, 4))\n",
    "print('F1-score:', round(f1_score, 4))"
   ]
  },
  {
   "cell_type": "code",
   "execution_count": 235,
   "metadata": {},
   "outputs": [
    {
     "name": "stdout",
     "output_type": "stream",
     "text": [
      "maxDepth: 5\n",
      "maxBins: 32\n"
     ]
    }
   ],
   "source": [
    "# Optimal parameters\n",
    "print('maxDepth:', dec_tree_model._java_obj.getMaxDepth())\n",
    "print('maxBins:', dec_tree_model._java_obj.getMaxBins())"
   ]
  },
  {
   "cell_type": "code",
   "execution_count": 227,
   "metadata": {},
   "outputs": [
    {
     "data": {
      "image/png": "[encoded data removed]",
      "text/plain": [
       "<Figure size 432x288 with 1 Axes>"
      ]
     },
     "metadata": {
      "needs_background": "light"
     },
     "output_type": "display_data"
    }
   ],
   "source": [
    "feat_importance = dec_tree_model.featureImportances.values\n",
    "cols = [\"gender\", \"paid_subscriber\", \"num_songs\", \"thumbs_up\", \"thumbs_down\"]\n",
    "y_tick = np.arange(len(cols))\n",
    "indices =  np.argsort(feat_importance)[:]\n",
    "\n",
    "plt.barh(y_tick, feat_importance[indices], align='center')\n",
    "plt.yticks(y_tick, np.array(cols)[indices])\n",
    "plt.xlabel('Importance Score')\n",
    "plt.title('Decision Tree Feature Importances');"
   ]
  },
  {
   "cell_type": "markdown",
   "metadata": {},
   "source": [
    "# Final Steps\n",
    "Clean up your code, adding comments and renaming variables to make the code easier to read and maintain. Refer to the Spark Project Overview page and Data Scientist Capstone Project Rubric to make sure you are including all components of the capstone project and meet all expectations. Remember, this includes thorough documentation in a README file in a Github repository, as well as a web app or blog post."
   ]
  },
  {
   "cell_type": "code",
   "execution_count": null,
   "metadata": {},
   "outputs": [],
   "source": []
  }
 ],
 "metadata": {
  "kernelspec": {
   "display_name": "Python 3",
   "language": "python",
   "name": "python3"
  },
  "language_info": {
   "codemirror_mode": {
    "name": "ipython",
    "version": 3
   },
   "file_extension": ".py",
   "mimetype": "text/x-python",
   "name": "python",
   "nbconvert_exporter": "python",
   "pygments_lexer": "ipython3",
   "version": "3.7.4"
  }
 },
 "nbformat": 4,
 "nbformat_minor": 2
}
